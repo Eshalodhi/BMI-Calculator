{
  "nbformat": 4,
  "nbformat_minor": 0,
  "metadata": {
    "colab": {
      "provenance": [],
      "authorship_tag": "ABX9TyMk6Q1xWMmZ4g25EwQxPTHE",
      "include_colab_link": true
    },
    "kernelspec": {
      "name": "python3",
      "display_name": "Python 3"
    },
    "language_info": {
      "name": "python"
    }
  },
  "cells": [
    {
      "cell_type": "markdown",
      "metadata": {
        "id": "view-in-github",
        "colab_type": "text"
      },
      "source": [
        "<a href=\"https://colab.research.google.com/github/Eshalodhi/BMI-Calculator/blob/main/BMI_Calculator.ipynb\" target=\"_parent\"><img src=\"https://colab.research.google.com/assets/colab-badge.svg\" alt=\"Open In Colab\"/></a>"
      ]
    },
    {
      "cell_type": "markdown",
      "source": [
        "## BMI Calculator"
      ],
      "metadata": {
        "id": "ljUnWmR82AH4"
      }
    },
    {
      "cell_type": "code",
      "execution_count": 16,
      "metadata": {
        "colab": {
          "base_uri": "https://localhost:8080/"
        },
        "id": "elR71sue1vLP",
        "outputId": "f4e59430-59d7-4453-ebea-91834af7c061"
      },
      "outputs": [
        {
          "output_type": "stream",
          "name": "stderr",
          "text": [
            "2025-04-06 18:52:09.709 Thread 'MainThread': missing ScriptRunContext! This warning can be ignored when running in bare mode.\n",
            "2025-04-06 18:52:09.710 Thread 'MainThread': missing ScriptRunContext! This warning can be ignored when running in bare mode.\n",
            "2025-04-06 18:52:09.711 Thread 'MainThread': missing ScriptRunContext! This warning can be ignored when running in bare mode.\n",
            "2025-04-06 18:52:09.712 Thread 'MainThread': missing ScriptRunContext! This warning can be ignored when running in bare mode.\n",
            "2025-04-06 18:52:09.714 Thread 'MainThread': missing ScriptRunContext! This warning can be ignored when running in bare mode.\n",
            "2025-04-06 18:52:09.715 Thread 'MainThread': missing ScriptRunContext! This warning can be ignored when running in bare mode.\n",
            "2025-04-06 18:52:09.715 Thread 'MainThread': missing ScriptRunContext! This warning can be ignored when running in bare mode.\n",
            "2025-04-06 18:52:09.716 Thread 'MainThread': missing ScriptRunContext! This warning can be ignored when running in bare mode.\n",
            "2025-04-06 18:52:09.717 Thread 'MainThread': missing ScriptRunContext! This warning can be ignored when running in bare mode.\n",
            "2025-04-06 18:52:09.718 Thread 'MainThread': missing ScriptRunContext! This warning can be ignored when running in bare mode.\n",
            "2025-04-06 18:52:09.721 Thread 'MainThread': missing ScriptRunContext! This warning can be ignored when running in bare mode.\n",
            "2025-04-06 18:52:09.722 Thread 'MainThread': missing ScriptRunContext! This warning can be ignored when running in bare mode.\n",
            "2025-04-06 18:52:09.723 Thread 'MainThread': missing ScriptRunContext! This warning can be ignored when running in bare mode.\n",
            "2025-04-06 18:52:09.723 Thread 'MainThread': missing ScriptRunContext! This warning can be ignored when running in bare mode.\n",
            "2025-04-06 18:52:09.724 Thread 'MainThread': missing ScriptRunContext! This warning can be ignored when running in bare mode.\n",
            "2025-04-06 18:52:09.725 Thread 'MainThread': missing ScriptRunContext! This warning can be ignored when running in bare mode.\n",
            "2025-04-06 18:52:09.725 Thread 'MainThread': missing ScriptRunContext! This warning can be ignored when running in bare mode.\n",
            "2025-04-06 18:52:09.727 Thread 'MainThread': missing ScriptRunContext! This warning can be ignored when running in bare mode.\n",
            "2025-04-06 18:52:09.727 Thread 'MainThread': missing ScriptRunContext! This warning can be ignored when running in bare mode.\n",
            "2025-04-06 18:52:09.730 Thread 'MainThread': missing ScriptRunContext! This warning can be ignored when running in bare mode.\n",
            "2025-04-06 18:52:09.731 Thread 'MainThread': missing ScriptRunContext! This warning can be ignored when running in bare mode.\n",
            "2025-04-06 18:52:09.732 Thread 'MainThread': missing ScriptRunContext! This warning can be ignored when running in bare mode.\n",
            "2025-04-06 18:52:09.732 Thread 'MainThread': missing ScriptRunContext! This warning can be ignored when running in bare mode.\n",
            "2025-04-06 18:52:09.733 Thread 'MainThread': missing ScriptRunContext! This warning can be ignored when running in bare mode.\n",
            "2025-04-06 18:52:09.734 Thread 'MainThread': missing ScriptRunContext! This warning can be ignored when running in bare mode.\n",
            "2025-04-06 18:52:09.735 Thread 'MainThread': missing ScriptRunContext! This warning can be ignored when running in bare mode.\n"
          ]
        }
      ],
      "source": [
        "!pip install streamlit pyngrok --quiet\n",
        "\n",
        "import streamlit as st\n",
        "import time\n",
        "\n",
        "st.set_page_config(page_title=\"BMI Calculator\", page_icon=\"🧮\", layout= \"centered\")\n",
        "\n",
        "st.title(\"BMI Calculator\")\n",
        "st.markdown(\"\"\"\n",
        "Enter your height and weight to calculate your BMI.\n",
        "\"\"\")\n",
        "\n",
        "col1, col2 = st.columns(2)\n",
        "with col1:\n",
        "  weight = st.number_input(\"Enter your weight in (kg): \", min_value=1.0, format=\"%.2f\")\n",
        "with col2:\n",
        "  height = st.number_input(\"Enter your height in (m): \", min_value=1.0, format=\"%.2f\")\n",
        "\n",
        "if height > 0 and weight > 0:\n",
        "   bmi = weight / (height ** 2)\n",
        "   st.subheader(\"Your BMI is: \")\n",
        "   st.markdown(f\"{bmi:.2f}\", unsafe_allow_html=True)\n",
        "\n",
        "   if bmi < 18.5:\n",
        "       st.error(\"underweight\") #Corrected indentation\n",
        "   elif 18.5 <= bmi < 24.9:\n",
        "       st.success(\"normal weight\") #Corrected indentation\n",
        "   elif 25.0 <= bmi < 29.9:\n",
        "       st.warning(\"overweight\") #Corrected indentation\n",
        "   else:\n",
        "       st.error(\"obese🚨\") #Corrected indentation\n",
        "else:\n",
        "  st.warning(\"Please enter valid height and weight\")"
      ]
    }
  ]
}